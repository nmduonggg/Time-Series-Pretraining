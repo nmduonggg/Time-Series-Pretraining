{
 "cells": [
  {
   "cell_type": "code",
   "execution_count": 1,
   "metadata": {},
   "outputs": [],
   "source": [
    "import numpy as np\n",
    "import os"
   ]
  },
  {
   "cell_type": "code",
   "execution_count": 2,
   "metadata": {},
   "outputs": [],
   "source": [
    "root_folder = '/mnt/disk4/nmduong/Time-Series-Pretraining/data_processing/ECG/PROCESSED'\n",
    "all_directories = [d for d in os.listdir(root_folder)]"
   ]
  },
  {
   "cell_type": "code",
   "execution_count": 9,
   "metadata": {},
   "outputs": [],
   "source": [
    "def count_flatten_samples(dta_dir):\n",
    "    cnt = 0\n",
    "    files = [os.path.join(dta_dir, f) for f in os.listdir(dta_dir)]\n",
    "    for f in files:\n",
    "        path = os.path.join(root_folder, f)\n",
    "        x = np.load(path)\n",
    "        # print(x.shape)\n",
    "        cnt += int(x.shape[0]*x.shape[1])\n",
    "        \n",
    "    return cnt"
   ]
  },
  {
   "cell_type": "code",
   "execution_count": 10,
   "metadata": {},
   "outputs": [
    {
     "name": "stdout",
     "output_type": "stream",
     "text": [
      "1011564\n"
     ]
    }
   ],
   "source": [
    "flatten_sample_cnt = 0\n",
    "for dir in all_directories:\n",
    "    dir_path = os.path.join(root_folder, dir)\n",
    "    flatten_sample_cnt += count_flatten_samples(dir_path)\n",
    "    "
   ]
  },
  {
   "cell_type": "code",
   "execution_count": 11,
   "metadata": {},
   "outputs": [
    {
     "name": "stdout",
     "output_type": "stream",
     "text": [
      "1011564\n"
     ]
    }
   ],
   "source": [
    "print(flatten_sample_cnt)"
   ]
  },
  {
   "cell_type": "code",
   "execution_count": null,
   "metadata": {},
   "outputs": [],
   "source": []
  }
 ],
 "metadata": {
  "kernelspec": {
   "display_name": "longnd",
   "language": "python",
   "name": "python3"
  },
  "language_info": {
   "codemirror_mode": {
    "name": "ipython",
    "version": 3
   },
   "file_extension": ".py",
   "mimetype": "text/x-python",
   "name": "python",
   "nbconvert_exporter": "python",
   "pygments_lexer": "ipython3",
   "version": "3.7.11"
  }
 },
 "nbformat": 4,
 "nbformat_minor": 2
}
